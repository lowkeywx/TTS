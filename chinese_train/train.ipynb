{
 "cells": [
  {
   "cell_type": "code",
   "execution_count": 1,
   "id": "df053f79-b337-46ef-bb30-1fadfc097014",
   "metadata": {},
   "outputs": [],
   "source": [
    "import json\n",
    "\n",
    "file_path = \"/root/TTS/chinese_train/config.json\"\n",
    "with open(file_path,\"r\") as rf:\n",
    "    content = json.load(rf)\n",
    "    \n",
    "with open(file_path,\"w\") as wf:\n",
    "    json.dump(content, wf, ensure_ascii=False)"
   ]
  },
  {
   "cell_type": "code",
   "execution_count": null,
   "id": "6d61fb0d",
   "metadata": {},
   "outputs": [],
   "source": [
    "!python TTS/bin/resample.py \\\n",
    "    --input_dir /root/trainDataset/mengpai/ \\\n",
    "    --output_sr 22050 \\\n",
    "    --output_dir /root/trainDataset/mengpai_22050/ \\\n",
    "    --file_ext wav --n_jobs 24\n"
   ]
  },
  {
   "cell_type": "code",
   "execution_count": null,
   "id": "c01c5d29-e43b-4442-bc5a-5ef24ba161cd",
   "metadata": {},
   "outputs": [],
   "source": [
    "!CUDA_VISIBLE_DEVICES=\"0\" python TTS/bin/train_tts.py \\\n",
    "    --config_path  /root/pre_train/config.json \\\n",
    "    --restore_path  /root/pre_train/best_model.pth"
   ]
  }
 ],
 "metadata": {
  "kernelspec": {
   "display_name": "Python 3 (ipykernel)",
   "language": "python",
   "name": "python3"
  },
  "language_info": {
   "codemirror_mode": {
    "name": "ipython",
    "version": 3
   },
   "file_extension": ".py",
   "mimetype": "text/x-python",
   "name": "python",
   "nbconvert_exporter": "python",
   "pygments_lexer": "ipython3",
   "version": "3.8.10"
  }
 },
 "nbformat": 4,
 "nbformat_minor": 5
}
